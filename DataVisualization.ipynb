{
 "cells": [
  {
   "cell_type": "markdown",
   "metadata": {},
   "source": [
    "![WSDL2022](logo.png)"
   ]
  },
  {
   "cell_type": "markdown",
   "metadata": {},
   "source": [
    "<center> <font color = \"Salmon\" size = 6 > Segmentation Hands-on </font> </center>\n",
    "<center> <font color = \"Gold\" size = 5 > Sankarsan Seal </font> </center>\n",
    "<center> 12th February 2022 </center>"
   ]
  },
  {
   "cell_type": "code",
   "execution_count": null,
   "metadata": {
    "ExecuteTime": {
     "end_time": "2022-02-12T06:56:42.866961Z",
     "start_time": "2022-02-12T06:56:42.863042Z"
    }
   },
   "outputs": [],
   "source": [
    "from modules import DataDirectory as dd\n",
    "from modules import DataGenerator as dg\n",
    "\n",
    "from matplotlib import pyplot as plt\n",
    "\n",
    "from torchvision.transforms import functional as ttf\n",
    "\n",
    "import numpy as np\n",
    "\n",
    "import skimage.color as skco\n",
    "import skimage.util as skut\n",
    "\n",
    "import torch\n",
    "\n"
   ]
  },
  {
   "cell_type": "code",
   "execution_count": null,
   "metadata": {
    "ExecuteTime": {
     "end_time": "2022-02-12T06:54:33.985306Z",
     "start_time": "2022-02-12T06:54:33.983063Z"
    }
   },
   "outputs": [],
   "source": [
    "SPECIES_NAME = \"Bengal\""
   ]
  },
  {
   "cell_type": "code",
   "execution_count": null,
   "metadata": {
    "ExecuteTime": {
     "end_time": "2022-02-12T06:54:34.019308Z",
     "start_time": "2022-02-12T06:54:33.987480Z"
    }
   },
   "outputs": [],
   "source": [
    "dd.getImagesOfASpecies( SPECIES_NAME )"
   ]
  },
  {
   "cell_type": "code",
   "execution_count": null,
   "metadata": {
    "ExecuteTime": {
     "end_time": "2022-02-12T06:55:29.280604Z",
     "start_time": "2022-02-12T06:54:34.020779Z"
    }
   },
   "outputs": [],
   "source": [
    "height_list = list()\n",
    "width_list = list()\n",
    "\n",
    "for image_object_path, mask_object_path  in zip( dd.getImagesOfASpecies( species_name = SPECIES_NAME),\n",
    "                             dd.getMasksOfASpecies( species_name = SPECIES_NAME ) ) :\n",
    "    \n",
    "    mask_object = dd.getObjectOfAnImage( mask_object_path )\n",
    "    height_list.append( mask_object.shape[ 0 ] )\n",
    "    width_list.append( mask_object.shape[ 1 ] )\n",
    "    \n",
    "    plt.subplot( 121 )\n",
    "    plt.imshow( mask_object )\n",
    "    \n",
    "                             \n",
    "    plt.subplot( 122 )\n",
    "                             \n",
    "    plt.imshow( dd.getObjectOfAnImage( image_object_path ) )\n",
    "                                                \n",
    "    plt.show()"
   ]
  },
  {
   "cell_type": "code",
   "execution_count": null,
   "metadata": {
    "ExecuteTime": {
     "end_time": "2022-02-12T06:55:29.289932Z",
     "start_time": "2022-02-12T06:55:29.283860Z"
    }
   },
   "outputs": [],
   "source": [
    "np.mean( height_list ), np.mean( width_list )"
   ]
  },
  {
   "cell_type": "code",
   "execution_count": null,
   "metadata": {
    "ExecuteTime": {
     "end_time": "2022-02-12T06:55:29.310565Z",
     "start_time": "2022-02-12T06:55:29.291659Z"
    },
    "scrolled": true
   },
   "outputs": [],
   "source": [
    "dd.getTrainValFileNameFromTxt( species_name = SPECIES_NAME )"
   ]
  },
  {
   "cell_type": "code",
   "execution_count": null,
   "metadata": {
    "ExecuteTime": {
     "end_time": "2022-02-12T06:55:32.052044Z",
     "start_time": "2022-02-12T06:55:29.312586Z"
    }
   },
   "outputs": [],
   "source": [
    "train_data_gen = dg.TestDataGenerator( species_name = SPECIES_NAME )"
   ]
  },
  {
   "cell_type": "code",
   "execution_count": null,
   "metadata": {
    "ExecuteTime": {
     "end_time": "2022-02-12T06:57:21.751280Z",
     "start_time": "2022-02-12T06:57:21.747950Z"
    }
   },
   "outputs": [],
   "source": [
    "image_object, mask_object = train_data_gen.__getitem__( 32 )"
   ]
  },
  {
   "cell_type": "code",
   "execution_count": null,
   "metadata": {
    "ExecuteTime": {
     "end_time": "2022-02-12T07:04:54.088040Z",
     "start_time": "2022-02-12T07:04:53.812653Z"
    }
   },
   "outputs": [],
   "source": [
    "plt.subplot(121)\n",
    "plt.imshow( ttf.to_pil_image( image_object ) )\n",
    "plt.axis(\"off\")\n",
    "\n",
    "plt.subplot(122)\n",
    "plt.imshow( np.array( ttf.to_pil_image(  mask_object ) ) )\n",
    "plt.axis(\"off\")\n",
    "plt.show()"
   ]
  },
  {
   "cell_type": "code",
   "execution_count": null,
   "metadata": {
    "ExecuteTime": {
     "end_time": "2022-02-12T07:04:58.641992Z",
     "start_time": "2022-02-12T07:04:58.634856Z"
    }
   },
   "outputs": [],
   "source": [
    "mask_object.unique()"
   ]
  },
  {
   "cell_type": "code",
   "execution_count": null,
   "metadata": {},
   "outputs": [],
   "source": []
  }
 ],
 "metadata": {
  "kernelspec": {
   "display_name": "Python 3",
   "language": "python",
   "name": "python3"
  },
  "language_info": {
   "codemirror_mode": {
    "name": "ipython",
    "version": 3
   },
   "file_extension": ".py",
   "mimetype": "text/x-python",
   "name": "python",
   "nbconvert_exporter": "python",
   "pygments_lexer": "ipython3",
   "version": "3.6.9"
  },
  "latex_envs": {
   "LaTeX_envs_menu_present": true,
   "autoclose": false,
   "autocomplete": true,
   "bibliofile": "biblio.bib",
   "cite_by": "apalike",
   "current_citInitial": 1,
   "eqLabelWithNumbers": true,
   "eqNumInitial": 1,
   "hotkeys": {
    "equation": "Ctrl-E",
    "itemize": "Ctrl-I"
   },
   "labels_anchors": false,
   "latex_user_defs": false,
   "report_style_numbering": false,
   "user_envs_cfg": false
  },
  "toc": {
   "base_numbering": 1,
   "nav_menu": {
    "height": "225px",
    "width": "296px"
   },
   "number_sections": true,
   "sideBar": true,
   "skip_h1_title": false,
   "title_cell": "Table of Contents",
   "title_sidebar": "Contents",
   "toc_cell": false,
   "toc_position": {},
   "toc_section_display": true,
   "toc_window_display": false
  },
  "varInspector": {
   "cols": {
    "lenName": 16,
    "lenType": 16,
    "lenVar": 40
   },
   "kernels_config": {
    "python": {
     "delete_cmd_postfix": "",
     "delete_cmd_prefix": "del ",
     "library": "var_list.py",
     "varRefreshCmd": "print(var_dic_list())"
    },
    "r": {
     "delete_cmd_postfix": ") ",
     "delete_cmd_prefix": "rm(",
     "library": "var_list.r",
     "varRefreshCmd": "cat(var_dic_list()) "
    }
   },
   "types_to_exclude": [
    "module",
    "function",
    "builtin_function_or_method",
    "instance",
    "_Feature"
   ],
   "window_display": false
  }
 },
 "nbformat": 4,
 "nbformat_minor": 4
}
