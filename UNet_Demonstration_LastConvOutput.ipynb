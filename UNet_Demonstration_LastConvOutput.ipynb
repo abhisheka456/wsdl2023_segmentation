{
 "cells": [
  {
   "cell_type": "markdown",
   "metadata": {},
   "source": [
    "![WSDL2022](logo.png)"
   ]
  },
  {
   "cell_type": "markdown",
   "metadata": {},
   "source": [
    "<center> <font color = \"Salmon\" size = 6 > Segmentation Hands-on </font> </center>\n",
    "<center> <font color = \"DarkSlateBlue\" size = 5 > Sankarsan Seal </font> </center>\n",
    "<center> 12th February 2022 </center>"
   ]
  },
  {
   "cell_type": "code",
   "execution_count": null,
   "metadata": {
    "ExecuteTime": {
     "end_time": "2022-02-12T06:26:13.709989Z",
     "start_time": "2022-02-12T06:26:12.436417Z"
    }
   },
   "outputs": [],
   "source": [
    "from modules import UNetModel_LastConvOutput\n",
    "from modules import DataGenerator as dg\n",
    "from modules import SavingParameterState as sps\n",
    "\n",
    "\n",
    "from torch.optim import Adam\n",
    "from torch.nn import CrossEntropyLoss\n",
    "\n",
    "from torch.utils.data import DataLoader\n",
    "\n",
    "import torch\n",
    "\n",
    "from tqdm.notebook import tqdm\n",
    "\n",
    "import numpy as np\n",
    "\n",
    "from torchvision.transforms import functional as ttf\n",
    "\n",
    "from matplotlib import pyplot as plt\n"
   ]
  },
  {
   "cell_type": "code",
   "execution_count": null,
   "metadata": {
    "ExecuteTime": {
     "end_time": "2022-02-12T06:26:13.718188Z",
     "start_time": "2022-02-12T06:26:13.713397Z"
    }
   },
   "outputs": [],
   "source": [
    "CUDA_DEVICE = \"cuda:0\"\n",
    "\n",
    "NO_OF_ITERATIONS = 1500\n",
    "\n",
    "LEARNING_RATE = 1e-5\n",
    "\n",
    "SPECIES_NAME = \"Bengal\"\n",
    "\n",
    "BATCH_SIZE = 4\n",
    "\n",
    "MODEL_SAVING_STRING = \"UNet_epoch\""
   ]
  },
  {
   "cell_type": "markdown",
   "metadata": {},
   "source": [
    "![U-Net](UNEt_Screen_Shot_2020-07-07_at_9.08.00_PM_rpNArED.png)"
   ]
  },
  {
   "cell_type": "code",
   "execution_count": null,
   "metadata": {
    "ExecuteTime": {
     "end_time": "2022-02-12T06:26:18.378130Z",
     "start_time": "2022-02-12T06:26:13.721465Z"
    },
    "scrolled": true
   },
   "outputs": [],
   "source": [
    "unet = UNetModel_LastConvOutput.UNet()\n",
    "unet.to( device = CUDA_DEVICE )"
   ]
  },
  {
   "cell_type": "code",
   "execution_count": null,
   "metadata": {
    "ExecuteTime": {
     "end_time": "2022-02-12T06:26:18.383815Z",
     "start_time": "2022-02-12T06:26:18.380210Z"
    },
    "scrolled": true
   },
   "outputs": [],
   "source": [
    "optimizer = Adam( unet.parameters(), lr = LEARNING_RATE )\n",
    "criterion = CrossEntropyLoss()"
   ]
  },
  {
   "cell_type": "code",
   "execution_count": null,
   "metadata": {
    "ExecuteTime": {
     "end_time": "2022-02-12T06:26:23.270797Z",
     "start_time": "2022-02-12T06:26:18.385679Z"
    }
   },
   "outputs": [],
   "source": [
    "train_data_gen = dg.TrainDataGenerator( species_name = SPECIES_NAME )\n",
    "train_dataloader = DataLoader( dataset = train_data_gen, \n",
    "                             batch_size = BATCH_SIZE,\n",
    "                             shuffle = True,)\n",
    "\n",
    "val_data_gen = dg.ValDataGenerator( species_name = SPECIES_NAME )\n",
    "val_dataloader = DataLoader( dataset = val_data_gen,\n",
    "                           batch_size = 1,\n",
    "                           shuffle = False\n",
    "                           )\n",
    "\n",
    "test_data_gen = dg.TestDataGenerator( species_name = SPECIES_NAME )\n",
    "test_dataloader = DataLoader( dataset = test_data_gen,\n",
    "                            batch_size = 1,\n",
    "                            shuffle = False\n",
    "                            )"
   ]
  },
  {
   "cell_type": "code",
   "execution_count": null,
   "metadata": {
    "ExecuteTime": {
     "end_time": "2022-02-12T07:32:49.489532Z",
     "start_time": "2022-02-12T06:26:23.272279Z"
    },
    "scrolled": true
   },
   "outputs": [],
   "source": [
    "lowest_val_loss = np.inf\n",
    "best_epoch = -1\n",
    "\n",
    "for epoch in tqdm( range( NO_OF_ITERATIONS ) ):\n",
    "    \n",
    "    unet.train()\n",
    "    \n",
    "    total_loss = list()\n",
    "    \n",
    "    total_val_loss = list()\n",
    "    \n",
    "    for image_tensor, mask_tensor in train_dataloader:\n",
    "        \n",
    "        optimizer.zero_grad()\n",
    "    \n",
    "        segmentation_output, _ = unet( image_tensor.to( device = CUDA_DEVICE ) )\n",
    "        \n",
    "        \n",
    "        loss = criterion( segmentation_output , mask_tensor.to( device = CUDA_DEVICE )  )\n",
    "        \n",
    "        loss.backward()\n",
    "        \n",
    "        optimizer.step()\n",
    "        \n",
    "        total_loss.append( loss.item() )\n",
    "        \n",
    "        \n",
    "    print(\"Total Loss after {0} epoch: {1}\".format( epoch, np.mean( total_loss ) ))\n",
    "    \n",
    "    unet.eval()\n",
    "    \n",
    "    for image_tensor, mask_tensor in val_dataloader:\n",
    "        segmentation_output, _ = unet( image_tensor.to( device = CUDA_DEVICE ) )\n",
    "        \n",
    "        \n",
    "        loss = criterion( segmentation_output , mask_tensor.to( device = CUDA_DEVICE )  )\n",
    "        \n",
    "        total_val_loss.append( loss.item() )\n",
    "        \n",
    "    mean_val_loss = np.mean( total_val_loss )\n",
    "    \n",
    "    if  mean_val_loss < lowest_val_loss :\n",
    "        \n",
    "        print( \"   ***Lowest mean validation loss is {0} at epoch {1}\".format( mean_val_loss, epoch ) )\n",
    "        \n",
    "        best_epoch = epoch\n",
    "        \n",
    "        lowest_val_loss = mean_val_loss\n",
    "        \n",
    "        sps.save_model_parameters( model = unet,\n",
    "                                 optimizer = optimizer,\n",
    "                                 name_of_the_model = MODEL_SAVING_STRING + \"{0}\".format( epoch )\n",
    "                                 )\n",
    "        \n",
    "        \n",
    "        \n",
    "sps.save_model_parameters( model = unet,\n",
    "                          optimizer = optimizer,\n",
    "                          name_of_the_model = MODEL_SAVING_STRING + \"{0}\".format( -1 ))\n",
    "        \n",
    "        \n",
    "        \n",
    "        \n",
    "        \n",
    "    \n",
    "    "
   ]
  },
  {
   "cell_type": "code",
   "execution_count": null,
   "metadata": {
    "ExecuteTime": {
     "end_time": "2022-02-12T09:52:09.452696Z",
     "start_time": "2022-02-12T09:52:09.445453Z"
    }
   },
   "outputs": [],
   "source": [
    "def print_conv( input_tensor : torch ):\n",
    "    \n",
    "    for i_batch in range ( input_tensor.shape[ 0 ] ):\n",
    "        \n",
    "        for i_channel in range( input_tensor.shape[ 1 ] ):\n",
    "            \n",
    "            plt.subplot( 8 , 8 , ( i_channel + 1) )\n",
    "            plt.axis(\"off\")\n",
    "            plt.imshow( ttf.to_pil_image(input_tensor[ i_batch, i_channel ] ) )\n",
    "            \n",
    "            \n",
    "    plt.show()\n",
    "            \n",
    "            \n",
    "    "
   ]
  },
  {
   "cell_type": "code",
   "execution_count": null,
   "metadata": {
    "ExecuteTime": {
     "end_time": "2022-02-12T09:52:12.328567Z",
     "start_time": "2022-02-12T09:52:11.983450Z"
    }
   },
   "outputs": [],
   "source": [
    "sps.load_model_parameter( model = unet,\n",
    "                        optimizer = optimizer,\n",
    "                        name_of_the_model = MODEL_SAVING_STRING + \"{0}\".format( -1 ) \n",
    "                        )"
   ]
  },
  {
   "cell_type": "code",
   "execution_count": null,
   "metadata": {
    "ExecuteTime": {
     "start_time": "2022-02-12T10:34:01.785Z"
    },
    "scrolled": false
   },
   "outputs": [],
   "source": [
    "unet.eval()\n",
    "for i_index, ( image_tensor, mask_tensor ) in enumerate( test_dataloader ):\n",
    "    \n",
    "    segmentation_output, LastConvOutput = unet( image_tensor.to( device = CUDA_DEVICE ) )\n",
    "    \n",
    "    \n",
    "    print( \"Image index:\", i_index )\n",
    "    plt.subplot(121)\n",
    "\n",
    "    plt.imshow( ttf.to_pil_image( image_tensor[0] ) )\n",
    "    \n",
    "    \n",
    "\n",
    "    plt.subplot(122)\n",
    "    plt.imshow( ttf.to_pil_image( segmentation_output[0] ) )\n",
    "    plt.show()\n",
    "    \n",
    "    print_conv( LastConvOutput )\n",
    "    \n",
    "#Attention U-Net"
   ]
  },
  {
   "cell_type": "code",
   "execution_count": null,
   "metadata": {
    "ExecuteTime": {
     "end_time": "2022-02-12T07:37:58.792786Z",
     "start_time": "2022-02-12T07:37:58.788169Z"
    }
   },
   "outputs": [],
   "source": [
    "best_epoch"
   ]
  },
  {
   "cell_type": "code",
   "execution_count": null,
   "metadata": {
    "ExecuteTime": {
     "end_time": "2022-02-12T07:37:58.958371Z",
     "start_time": "2022-02-12T07:37:58.795066Z"
    }
   },
   "outputs": [],
   "source": [
    "sps.load_model_parameter( model = unet,\n",
    "                        optimizer = optimizer,\n",
    "                        name_of_the_model = MODEL_SAVING_STRING + \"{0}\".format( best_epoch ) \n",
    "                        )"
   ]
  },
  {
   "cell_type": "code",
   "execution_count": null,
   "metadata": {
    "ExecuteTime": {
     "end_time": "2022-02-12T07:38:25.591596Z",
     "start_time": "2022-02-12T07:37:58.959696Z"
    }
   },
   "outputs": [],
   "source": [
    "unet.eval()\n",
    "for image_tensor, mask_tensor in test_dataloader:\n",
    "    \n",
    "    segmentation_output, _ = unet( image_tensor.to( device = CUDA_DEVICE ) )\n",
    "    \n",
    "    plt.subplot(121)\n",
    "\n",
    "    plt.imshow( ttf.to_pil_image( image_tensor[0] ) )\n",
    "\n",
    "    plt.subplot(122)\n",
    "    plt.imshow( ttf.to_pil_image( segmentation_output[0] ) )\n",
    "    plt.show()"
   ]
  },
  {
   "cell_type": "code",
   "execution_count": null,
   "metadata": {
    "ExecuteTime": {
     "end_time": "2022-02-12T08:22:17.689576Z",
     "start_time": "2022-02-12T08:22:17.683219Z"
    }
   },
   "outputs": [],
   "source": [
    "mask_tensor.unique()"
   ]
  },
  {
   "cell_type": "code",
   "execution_count": null,
   "metadata": {},
   "outputs": [],
   "source": []
  }
 ],
 "metadata": {
  "kernelspec": {
   "display_name": "Python 3",
   "language": "python",
   "name": "python3"
  },
  "language_info": {
   "codemirror_mode": {
    "name": "ipython",
    "version": 3
   },
   "file_extension": ".py",
   "mimetype": "text/x-python",
   "name": "python",
   "nbconvert_exporter": "python",
   "pygments_lexer": "ipython3",
   "version": "3.6.9"
  },
  "latex_envs": {
   "LaTeX_envs_menu_present": true,
   "autoclose": false,
   "autocomplete": true,
   "bibliofile": "biblio.bib",
   "cite_by": "apalike",
   "current_citInitial": 1,
   "eqLabelWithNumbers": true,
   "eqNumInitial": 1,
   "hotkeys": {
    "equation": "Ctrl-E",
    "itemize": "Ctrl-I"
   },
   "labels_anchors": false,
   "latex_user_defs": false,
   "report_style_numbering": false,
   "user_envs_cfg": false
  },
  "toc": {
   "base_numbering": 1,
   "nav_menu": {},
   "number_sections": true,
   "sideBar": true,
   "skip_h1_title": false,
   "title_cell": "Table of Contents",
   "title_sidebar": "Contents",
   "toc_cell": false,
   "toc_position": {},
   "toc_section_display": true,
   "toc_window_display": false
  },
  "varInspector": {
   "cols": {
    "lenName": 16,
    "lenType": 16,
    "lenVar": 40
   },
   "kernels_config": {
    "python": {
     "delete_cmd_postfix": "",
     "delete_cmd_prefix": "del ",
     "library": "var_list.py",
     "varRefreshCmd": "print(var_dic_list())"
    },
    "r": {
     "delete_cmd_postfix": ") ",
     "delete_cmd_prefix": "rm(",
     "library": "var_list.r",
     "varRefreshCmd": "cat(var_dic_list()) "
    }
   },
   "types_to_exclude": [
    "module",
    "function",
    "builtin_function_or_method",
    "instance",
    "_Feature"
   ],
   "window_display": false
  }
 },
 "nbformat": 4,
 "nbformat_minor": 4
}
