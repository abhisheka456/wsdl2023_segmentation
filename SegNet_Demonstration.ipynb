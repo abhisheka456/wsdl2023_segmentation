{
 "cells": [
  {
   "cell_type": "markdown",
   "metadata": {},
   "source": [
    "![WSDL2022](logo.png)"
   ]
  },
  {
   "cell_type": "markdown",
   "metadata": {},
   "source": [
    "<center> <font color = \"Salmon\" size = 6 > Segmentation Hands-on </font> </center>\n",
    "<center> <font color = \"DarkSlateBlue\" size = 5 > Sankarsan Seal </font> </center>\n",
    "<center> 12th February 2022 </center>"
   ]
  },
  {
   "cell_type": "markdown",
   "metadata": {},
   "source": [
    "# Importing Required Packages or Modules"
   ]
  },
  {
   "cell_type": "code",
   "execution_count": null,
   "metadata": {
    "ExecuteTime": {
     "end_time": "2022-02-12T01:46:45.367187Z",
     "start_time": "2022-02-12T01:46:44.541996Z"
    }
   },
   "outputs": [],
   "source": [
    "from modules import SegNetModel\n",
    "from modules import DataGenerator as dg\n",
    "from modules import SavingParameterState as sps\n",
    "\n",
    "from torch.optim import Adam\n",
    "from torch.nn import CrossEntropyLoss\n",
    "\n",
    "from torch.utils.data import DataLoader\n",
    "\n",
    "from tqdm.notebook import tqdmA\n",
    "\n",
    "import numpy as np\n",
    "\n",
    "from torchvision.transforms import functional as ttf\n",
    "\n",
    "from matplotlib import pyplot as plt\n"
   ]
  },
  {
   "cell_type": "markdown",
   "metadata": {},
   "source": [
    "# Declaring Global Variable"
   ]
  },
  {
   "cell_type": "code",
   "execution_count": null,
   "metadata": {
    "ExecuteTime": {
     "end_time": "2022-02-12T01:46:45.371174Z",
     "start_time": "2022-02-12T01:46:45.369025Z"
    }
   },
   "outputs": [],
   "source": [
    "CUDA_DEVICE = \"cuda:0\"\n",
    "\n",
    "NO_OF_ITERATIONS = 1000\n",
    "\n",
    "LEARNING_RATE = 1e-5\n",
    "\n",
    "SPECIES_NAME = \"Bengal\"\n",
    "\n",
    "BATCH_SIZE = 4\n",
    "\n",
    "MODEL_SAVING_STRING = \"SegNet_epoch\""
   ]
  },
  {
   "cell_type": "markdown",
   "metadata": {},
   "source": [
    "# Segnet Architechture"
   ]
  },
  {
   "cell_type": "markdown",
   "metadata": {},
   "source": [
    "The paper is available at https://arxiv.org/abs/1511.00561"
   ]
  },
  {
   "cell_type": "markdown",
   "metadata": {},
   "source": [
    "![SegNet](segnet_Vorazx7.png)"
   ]
  },
  {
   "cell_type": "code",
   "execution_count": null,
   "metadata": {
    "ExecuteTime": {
     "end_time": "2022-02-12T01:46:49.269129Z",
     "start_time": "2022-02-12T01:46:45.372337Z"
    },
    "scrolled": true
   },
   "outputs": [],
   "source": [
    "segnet = SegNetModel.SegNet()\n",
    "segnet.to( device = CUDA_DEVICE )"
   ]
  },
  {
   "cell_type": "markdown",
   "metadata": {},
   "source": [
    "# Inspiration from FCN"
   ]
  },
  {
   "cell_type": "markdown",
   "metadata": {},
   "source": [
    "![FCN](new_alex-model.jpg)"
   ]
  },
  {
   "cell_type": "markdown",
   "metadata": {},
   "source": [
    "# Learning Optimizer and Loss Declaration"
   ]
  },
  {
   "cell_type": "code",
   "execution_count": null,
   "metadata": {
    "ExecuteTime": {
     "end_time": "2022-02-12T01:46:49.273104Z",
     "start_time": "2022-02-12T01:46:49.270327Z"
    },
    "scrolled": true
   },
   "outputs": [],
   "source": [
    "optimizer = Adam( segnet.parameters(), lr = LEARNING_RATE )\n",
    "criterion = CrossEntropyLoss()\n",
    "\n",
    "# Entropy = - sum ( plog (base 2) p)\n",
    "# 0 , 1, 2 \n",
    "# 1\n",
    "\n",
    "# 0, 1, 0\n",
    "\n",
    "# 2\n",
    "\n",
    "# 0, 0, 1 output vector for a particular pixel.\n",
    "\n",
    "\n",
    "# p~ = predicted probability or softmax value\n",
    "# p^ = actual value\n",
    "\n",
    "\n",
    "# p~ = 0.2, 0.7, 0.3\n",
    "# p^ = 0, 1, 0\n",
    "\n",
    "# Cross Entropy Loss will be = - 0 * log ( 0.2 ) - 1 * log( 0.7 ) - 0 * log( 0.3 )\n",
    "#loss = - log( 0.7 )\n",
    "\n",
    "\n",
    "# when error \n",
    "# p~ = 0.0, 1.0, 0.0\n",
    "\n",
    "# p~ = 0.001 , 0.99, 0.009\n",
    "\n",
    "# Cross Entropy = - 0 * log ( 0.0 ) - 1 * log( 1 ) - 0 * log( 0 )\n",
    "# = 0\n",
    "\n",
    "# Dice Coefficient or Jaccard Index"
   ]
  },
  {
   "cell_type": "markdown",
   "metadata": {},
   "source": [
    "# Dataset"
   ]
  },
  {
   "cell_type": "markdown",
   "metadata": {},
   "source": [
    "Data available at https://www.robots.ox.ac.uk/~vgg/data/pets/"
   ]
  },
  {
   "cell_type": "code",
   "execution_count": null,
   "metadata": {
    "ExecuteTime": {
     "end_time": "2022-02-12T01:46:54.172844Z",
     "start_time": "2022-02-12T01:46:49.274102Z"
    }
   },
   "outputs": [],
   "source": [
    "train_data_gen = dg.TrainDataGenerator( species_name = SPECIES_NAME )\n",
    "train_dataloader = DataLoader( dataset = train_data_gen, \n",
    "                             batch_size = BATCH_SIZE,\n",
    "                             shuffle = True,)\n",
    "\n",
    "val_data_gen = dg.ValDataGenerator( species_name = SPECIES_NAME )\n",
    "val_dataloader = DataLoader( dataset = val_data_gen,\n",
    "                           batch_size = 1,\n",
    "                           shuffle = False\n",
    "                           )\n",
    "\n",
    "test_data_gen = dg.TestDataGenerator( species_name = SPECIES_NAME )\n",
    "test_dataloader = DataLoader( dataset = test_data_gen,\n",
    "                            batch_size = 1,\n",
    "                            shuffle = False\n",
    "                            )"
   ]
  },
  {
   "cell_type": "markdown",
   "metadata": {},
   "source": [
    "# Training and Validation Section"
   ]
  },
  {
   "cell_type": "code",
   "execution_count": null,
   "metadata": {
    "ExecuteTime": {
     "end_time": "2022-02-12T02:16:59.102507Z",
     "start_time": "2022-02-12T01:46:54.174743Z"
    },
    "scrolled": true
   },
   "outputs": [],
   "source": [
    "lowest_val_loss = np.inf\n",
    "best_epoch = -1\n",
    "\n",
    "for epoch in tqdm( range( NO_OF_ITERATIONS ) ):\n",
    "    \n",
    "    segnet.train()\n",
    "    \n",
    "    total_loss = list()\n",
    "    \n",
    "    total_val_loss = list()\n",
    "    \n",
    "    for image_tensor, mask_tensor in train_dataloader:\n",
    "        \n",
    "        optimizer.zero_grad()\n",
    "    \n",
    "        segmentation_output = segnet( image_tensor.to( device = CUDA_DEVICE ) )\n",
    "        \n",
    "        \n",
    "        loss = criterion( segmentation_output , mask_tensor.to( device = CUDA_DEVICE )  )\n",
    "        \n",
    "        loss.backward()\n",
    "        \n",
    "        optimizer.step()\n",
    "        \n",
    "        total_loss.append( loss.item() )\n",
    "        \n",
    "        \n",
    "    print(\"Total Loss after {0} epoch: {1}\".format( epoch, np.mean( total_loss ) ))\n",
    "    \n",
    "    segnet.eval()\n",
    "    \n",
    "    for image_tensor, mask_tensor in val_dataloader:\n",
    "        segmentation_output = segnet( image_tensor.to( device = CUDA_DEVICE ) )\n",
    "        \n",
    "        \n",
    "        loss = criterion( segmentation_output , mask_tensor.to( device = CUDA_DEVICE )  )\n",
    "        \n",
    "        total_val_loss.append( loss.item() )\n",
    "        \n",
    "    mean_val_loss = np.mean( total_val_loss )\n",
    "    \n",
    "    if  mean_val_loss < lowest_val_loss :\n",
    "        \n",
    "        print( \"   ***Lowest mean validation loss is {0} at epoch {1}\".format( mean_val_loss, epoch ) )\n",
    "        \n",
    "        best_epoch = epoch\n",
    "        \n",
    "        lowest_val_loss = mean_val_loss\n",
    "        \n",
    "        sps.save_model_parameters( model = segnet,\n",
    "                                 optimizer = optimizer,\n",
    "                                 name_of_the_model = MODEL_SAVING_STRING + \"{0}\".format( epoch )\n",
    "                                 )\n",
    "        \n",
    "        \n",
    "        \n",
    "sps.save_model_parameters( model = segnet,\n",
    "                          optimizer = optimizer,\n",
    "                          name_of_the_model = MODEL_SAVING_STRING + \"{0}\".format( -1 ))\n",
    "        \n",
    "        \n",
    "        \n",
    "        \n",
    "        \n",
    "    \n",
    "    "
   ]
  },
  {
   "cell_type": "markdown",
   "metadata": {},
   "source": [
    "# Loading model with learned parameters at last epoch"
   ]
  },
  {
   "cell_type": "code",
   "execution_count": null,
   "metadata": {
    "ExecuteTime": {
     "end_time": "2022-02-12T02:16:59.248532Z",
     "start_time": "2022-02-12T02:16:59.105836Z"
    }
   },
   "outputs": [],
   "source": [
    "sps.load_model_parameter( model = segnet,\n",
    "                        optimizer = optimizer,\n",
    "                        name_of_the_model = MODEL_SAVING_STRING + \"{0}\".format( -1 ) \n",
    "                        )"
   ]
  },
  {
   "cell_type": "markdown",
   "metadata": {},
   "source": [
    "# Input and Output"
   ]
  },
  {
   "cell_type": "code",
   "execution_count": null,
   "metadata": {
    "ExecuteTime": {
     "end_time": "2022-02-12T02:33:31.960543Z",
     "start_time": "2022-02-12T02:33:16.536613Z"
    }
   },
   "outputs": [],
   "source": [
    "segnet.eval()\n",
    "for i_index, (image_tensor, mask_tensor) in enumerate( test_dataloader ):\n",
    "    \n",
    "    print( i_index )\n",
    "    \n",
    "    segmentation_output = segnet( image_tensor.to( device = CUDA_DEVICE ) )\n",
    "    \n",
    "    plt.subplot(121)\n",
    "\n",
    "    plt.imshow( ttf.to_pil_image( image_tensor[0] ) )\n",
    "\n",
    "    plt.subplot(122)\n",
    "    plt.imshow( ttf.to_pil_image( segmentation_output[0] ) )\n",
    "    plt.show()"
   ]
  },
  {
   "cell_type": "code",
   "execution_count": null,
   "metadata": {
    "ExecuteTime": {
     "end_time": "2022-02-12T02:17:14.192404Z",
     "start_time": "2022-02-12T02:17:14.189827Z"
    }
   },
   "outputs": [],
   "source": [
    "best_epoch"
   ]
  },
  {
   "cell_type": "code",
   "execution_count": null,
   "metadata": {
    "ExecuteTime": {
     "end_time": "2022-02-12T02:17:14.336166Z",
     "start_time": "2022-02-12T02:17:14.193463Z"
    }
   },
   "outputs": [],
   "source": [
    "sps.load_model_parameter( model = segnet,\n",
    "                        optimizer = optimizer,\n",
    "                        name_of_the_model = MODEL_SAVING_STRING + \"{0}\".format( best_epoch ) \n",
    "                        )"
   ]
  },
  {
   "cell_type": "code",
   "execution_count": null,
   "metadata": {
    "ExecuteTime": {
     "end_time": "2022-02-12T02:17:29.247268Z",
     "start_time": "2022-02-12T02:17:14.337663Z"
    }
   },
   "outputs": [],
   "source": [
    "segnet.eval()\n",
    "for image_tensor, mask_tensor in test_dataloader:\n",
    "    \n",
    "    segmentation_output = segnet( image_tensor.to( device = CUDA_DEVICE ) )\n",
    "    \n",
    "    plt.subplot(121)\n",
    "\n",
    "    plt.imshow( ttf.to_pil_image( image_tensor[0] ) )\n",
    "\n",
    "    plt.subplot(122)\n",
    "    plt.imshow( ttf.to_pil_image( segmentation_output[0] ) )\n",
    "    plt.show()"
   ]
  },
  {
   "cell_type": "code",
   "execution_count": null,
   "metadata": {},
   "outputs": [],
   "source": []
  }
 ],
 "metadata": {
  "kernelspec": {
   "display_name": "Python 3",
   "language": "python",
   "name": "python3"
  },
  "language_info": {
   "codemirror_mode": {
    "name": "ipython",
    "version": 3
   },
   "file_extension": ".py",
   "mimetype": "text/x-python",
   "name": "python",
   "nbconvert_exporter": "python",
   "pygments_lexer": "ipython3",
   "version": "3.6.9"
  },
  "latex_envs": {
   "LaTeX_envs_menu_present": true,
   "autoclose": false,
   "autocomplete": true,
   "bibliofile": "biblio.bib",
   "cite_by": "apalike",
   "current_citInitial": 1,
   "eqLabelWithNumbers": true,
   "eqNumInitial": 1,
   "hotkeys": {
    "equation": "Ctrl-E",
    "itemize": "Ctrl-I"
   },
   "labels_anchors": false,
   "latex_user_defs": false,
   "report_style_numbering": false,
   "user_envs_cfg": false
  },
  "toc": {
   "base_numbering": 1,
   "nav_menu": {},
   "number_sections": true,
   "sideBar": true,
   "skip_h1_title": false,
   "title_cell": "Table of Contents",
   "title_sidebar": "Contents",
   "toc_cell": false,
   "toc_position": {},
   "toc_section_display": true,
   "toc_window_display": false
  },
  "varInspector": {
   "cols": {
    "lenName": 16,
    "lenType": 16,
    "lenVar": 40
   },
   "kernels_config": {
    "python": {
     "delete_cmd_postfix": "",
     "delete_cmd_prefix": "del ",
     "library": "var_list.py",
     "varRefreshCmd": "print(var_dic_list())"
    },
    "r": {
     "delete_cmd_postfix": ") ",
     "delete_cmd_prefix": "rm(",
     "library": "var_list.r",
     "varRefreshCmd": "cat(var_dic_list()) "
    }
   },
   "types_to_exclude": [
    "module",
    "function",
    "builtin_function_or_method",
    "instance",
    "_Feature"
   ],
   "window_display": false
  }
 },
 "nbformat": 4,
 "nbformat_minor": 4
}
