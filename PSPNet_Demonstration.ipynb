{
 "cells": [
  {
   "cell_type": "markdown",
   "metadata": {},
   "source": [
    "![WSDL2022](logo.png)"
   ]
  },
  {
   "cell_type": "markdown",
   "metadata": {},
   "source": [
    "<center> <font color = \"Salmon\" size = 6 > Segmentation Hands-on </font> </center>\n",
    "<center> <font color = \"DarkSlateBlue\" size = 5 > Sankarsan Seal </font> </center>\n",
    "<center> 12th February 2022 </center>"
   ]
  },
  {
   "cell_type": "code",
   "execution_count": null,
   "metadata": {
    "ExecuteTime": {
     "end_time": "2022-02-12T02:38:29.428594Z",
     "start_time": "2022-02-12T02:38:28.583664Z"
    }
   },
   "outputs": [],
   "source": [
    "from modules import PSPNetModel\n",
    "from modules import DataGenerator as dg\n",
    "from modules import SavingParameterState as sps\n",
    "\n",
    "from torch.optim import Adam\n",
    "from torch.nn import CrossEntropyLoss\n",
    "\n",
    "from torch.utils.data import DataLoader\n",
    "\n",
    "from tqdm.notebook import tqdm\n",
    "\n",
    "import numpy as np\n",
    "\n",
    "from torchvision.transforms import functional as ttf\n",
    "\n",
    "from matplotlib import pyplot as plt\n"
   ]
  },
  {
   "cell_type": "code",
   "execution_count": null,
   "metadata": {
    "ExecuteTime": {
     "end_time": "2022-02-12T02:38:29.432485Z",
     "start_time": "2022-02-12T02:38:29.430075Z"
    }
   },
   "outputs": [],
   "source": [
    "CUDA_DEVICE = \"cuda:0\"\n",
    "\n",
    "NO_OF_ITERATIONS = 1000\n",
    "\n",
    "LEARNING_RATE = 1e-5\n",
    "\n",
    "SPECIES_NAME = \"Bengal\"\n",
    "\n",
    "BATCH_SIZE = 4\n",
    "\n",
    "MODEL_SAVING_STRING = \"PSPNet_epoch\""
   ]
  },
  {
   "cell_type": "markdown",
   "metadata": {},
   "source": [
    "# PSPNet Architecture"
   ]
  },
  {
   "cell_type": "markdown",
   "metadata": {},
   "source": [
    "The paper is available at https://arxiv.org/abs/1612.01105"
   ]
  },
  {
   "cell_type": "markdown",
   "metadata": {},
   "source": [
    "![PSPNet](PSPNetScreenshot2022-02-12083857.png)"
   ]
  },
  {
   "cell_type": "code",
   "execution_count": null,
   "metadata": {
    "ExecuteTime": {
     "end_time": "2022-02-12T02:38:32.291203Z",
     "start_time": "2022-02-12T02:38:29.433711Z"
    },
    "scrolled": true
   },
   "outputs": [],
   "source": [
    "pspnet = PSPNetModel.PSPNet()\n",
    "pspnet.to( device = CUDA_DEVICE )"
   ]
  },
  {
   "cell_type": "code",
   "execution_count": null,
   "metadata": {
    "ExecuteTime": {
     "end_time": "2022-02-12T02:38:32.295116Z",
     "start_time": "2022-02-12T02:38:32.292464Z"
    },
    "scrolled": true
   },
   "outputs": [],
   "source": [
    "optimizer = Adam( pspnet.parameters(), lr = LEARNING_RATE )\n",
    "criterion = CrossEntropyLoss()"
   ]
  },
  {
   "cell_type": "code",
   "execution_count": null,
   "metadata": {
    "ExecuteTime": {
     "end_time": "2022-02-12T02:38:35.122473Z",
     "start_time": "2022-02-12T02:38:32.296136Z"
    }
   },
   "outputs": [],
   "source": [
    "train_data_gen = dg.TrainDataGenerator( species_name = SPECIES_NAME )\n",
    "train_dataloader = DataLoader( dataset = train_data_gen, \n",
    "                             batch_size = BATCH_SIZE,\n",
    "                             shuffle = True,)\n",
    "\n",
    "val_data_gen = dg.ValDataGenerator( species_name = SPECIES_NAME )\n",
    "val_dataloader = DataLoader( dataset = val_data_gen,\n",
    "                           batch_size = 1,\n",
    "                           shuffle = False\n",
    "                           )\n",
    "\n",
    "test_data_gen = dg.TestDataGenerator( species_name = SPECIES_NAME )\n",
    "test_dataloader = DataLoader( dataset = test_data_gen,\n",
    "                            batch_size = 1,\n",
    "                            shuffle = False\n",
    "                            )"
   ]
  },
  {
   "cell_type": "code",
   "execution_count": null,
   "metadata": {
    "ExecuteTime": {
     "end_time": "2022-02-12T03:04:47.191996Z",
     "start_time": "2022-02-12T02:38:35.125560Z"
    },
    "scrolled": true
   },
   "outputs": [],
   "source": [
    "lowest_val_loss = np.inf\n",
    "best_epoch = -1\n",
    "\n",
    "for epoch in tqdm( range( NO_OF_ITERATIONS ) ):\n",
    "    \n",
    "    pspnet.train()\n",
    "    \n",
    "    total_loss = list()\n",
    "    \n",
    "    total_val_loss = list()\n",
    "    \n",
    "    for image_tensor, mask_tensor in train_dataloader:\n",
    "        \n",
    "        optimizer.zero_grad()\n",
    "    \n",
    "        segmentation_output = pspnet( image_tensor.to( device = CUDA_DEVICE ) )\n",
    "        \n",
    "        \n",
    "        loss = criterion( segmentation_output , mask_tensor.to( device = CUDA_DEVICE )  )\n",
    "        \n",
    "        loss.backward()\n",
    "        \n",
    "        optimizer.step()\n",
    "        \n",
    "        total_loss.append( loss.item() )\n",
    "        \n",
    "        \n",
    "    print(\"Total Loss after {0} epoch: {1}\".format( epoch, np.mean( total_loss ) ))\n",
    "    \n",
    "    pspnet.eval()\n",
    "    \n",
    "    for image_tensor, mask_tensor in val_dataloader:\n",
    "        segmentation_output = pspnet( image_tensor.to( device = CUDA_DEVICE ) )\n",
    "        \n",
    "        \n",
    "        loss = criterion( segmentation_output , mask_tensor.to( device = CUDA_DEVICE )  )\n",
    "        \n",
    "        total_val_loss.append( loss.item() )\n",
    "        \n",
    "    mean_val_loss = np.mean( total_val_loss )\n",
    "    \n",
    "    if  mean_val_loss < lowest_val_loss :\n",
    "        \n",
    "        print( \"   ***Lowest mean validation loss is {0} at epoch {1}\".format( mean_val_loss, epoch ) )\n",
    "        \n",
    "        best_epoch = epoch\n",
    "        \n",
    "        lowest_val_loss = mean_val_loss\n",
    "        \n",
    "        sps.save_model_parameters( model = pspnet,\n",
    "                                 optimizer = optimizer,\n",
    "                                 name_of_the_model = MODEL_SAVING_STRING + \"{0}\".format( epoch )\n",
    "                                 )\n",
    "        \n",
    "        \n",
    "        \n",
    "sps.save_model_parameters( model = pspnet,\n",
    "                          optimizer = optimizer,\n",
    "                          name_of_the_model = MODEL_SAVING_STRING + \"{0}\".format( -1 ))\n",
    "        \n",
    "        \n",
    "        \n",
    "        \n",
    "        \n",
    "    \n",
    "    "
   ]
  },
  {
   "cell_type": "code",
   "execution_count": null,
   "metadata": {
    "ExecuteTime": {
     "end_time": "2022-02-12T03:04:47.312713Z",
     "start_time": "2022-02-12T03:04:47.195358Z"
    }
   },
   "outputs": [],
   "source": [
    "sps.load_model_parameter( model = pspnet,\n",
    "                        optimizer = optimizer,\n",
    "                        name_of_the_model = MODEL_SAVING_STRING + \"{0}\".format( -1 ) \n",
    "                        )"
   ]
  },
  {
   "cell_type": "code",
   "execution_count": null,
   "metadata": {
    "ExecuteTime": {
     "end_time": "2022-02-12T03:05:02.080679Z",
     "start_time": "2022-02-12T03:04:47.315132Z"
    }
   },
   "outputs": [],
   "source": [
    "pspnet.eval()\n",
    "for i_index, ( image_tensor, mask_tensor ) in enumerate( test_dataloader ):\n",
    "    \n",
    "    print( i_index )\n",
    "    \n",
    "    segmentation_output = pspnet( image_tensor.to( device = CUDA_DEVICE ) )\n",
    "    \n",
    "    plt.subplot(121)\n",
    "\n",
    "    plt.imshow( ttf.to_pil_image( image_tensor[0] ) )\n",
    "\n",
    "    plt.subplot(122)\n",
    "    plt.imshow( ttf.to_pil_image( segmentation_output[0] ) )\n",
    "    plt.show()"
   ]
  },
  {
   "cell_type": "code",
   "execution_count": null,
   "metadata": {
    "ExecuteTime": {
     "end_time": "2022-02-12T03:05:02.084630Z",
     "start_time": "2022-02-12T03:05:02.082059Z"
    }
   },
   "outputs": [],
   "source": [
    "best_epoch"
   ]
  },
  {
   "cell_type": "code",
   "execution_count": null,
   "metadata": {
    "ExecuteTime": {
     "end_time": "2022-02-12T03:05:02.201590Z",
     "start_time": "2022-02-12T03:05:02.085661Z"
    }
   },
   "outputs": [],
   "source": [
    "sps.load_model_parameter( model = pspnet,\n",
    "                        optimizer = optimizer,\n",
    "                        name_of_the_model = MODEL_SAVING_STRING + \"{0}\".format( best_epoch ) \n",
    "                        )"
   ]
  },
  {
   "cell_type": "code",
   "execution_count": null,
   "metadata": {
    "ExecuteTime": {
     "end_time": "2022-02-12T03:05:16.745615Z",
     "start_time": "2022-02-12T03:05:02.202840Z"
    }
   },
   "outputs": [],
   "source": [
    "pspnet.eval()\n",
    "for (image_tensor, mask_tensor) in test_dataloader:\n",
    "    \n",
    "    segmentation_output = pspnet( image_tensor.to( device = CUDA_DEVICE ) )\n",
    "    \n",
    "    plt.subplot(121)\n",
    "\n",
    "    plt.imshow( ttf.to_pil_image( image_tensor[0] ) )\n",
    "\n",
    "    plt.subplot(122)\n",
    "    plt.imshow( ttf.to_pil_image( segmentation_output[0] ) )\n",
    "    plt.show()"
   ]
  },
  {
   "cell_type": "code",
   "execution_count": null,
   "metadata": {},
   "outputs": [],
   "source": []
  }
 ],
 "metadata": {
  "kernelspec": {
   "display_name": "Python 3",
   "language": "python",
   "name": "python3"
  },
  "language_info": {
   "codemirror_mode": {
    "name": "ipython",
    "version": 3
   },
   "file_extension": ".py",
   "mimetype": "text/x-python",
   "name": "python",
   "nbconvert_exporter": "python",
   "pygments_lexer": "ipython3",
   "version": "3.6.9"
  },
  "latex_envs": {
   "LaTeX_envs_menu_present": true,
   "autoclose": false,
   "autocomplete": true,
   "bibliofile": "biblio.bib",
   "cite_by": "apalike",
   "current_citInitial": 1,
   "eqLabelWithNumbers": true,
   "eqNumInitial": 1,
   "hotkeys": {
    "equation": "Ctrl-E",
    "itemize": "Ctrl-I"
   },
   "labels_anchors": false,
   "latex_user_defs": false,
   "report_style_numbering": false,
   "user_envs_cfg": false
  },
  "toc": {
   "base_numbering": 1,
   "nav_menu": {},
   "number_sections": true,
   "sideBar": true,
   "skip_h1_title": false,
   "title_cell": "Table of Contents",
   "title_sidebar": "Contents",
   "toc_cell": false,
   "toc_position": {},
   "toc_section_display": true,
   "toc_window_display": false
  },
  "varInspector": {
   "cols": {
    "lenName": 16,
    "lenType": 16,
    "lenVar": 40
   },
   "kernels_config": {
    "python": {
     "delete_cmd_postfix": "",
     "delete_cmd_prefix": "del ",
     "library": "var_list.py",
     "varRefreshCmd": "print(var_dic_list())"
    },
    "r": {
     "delete_cmd_postfix": ") ",
     "delete_cmd_prefix": "rm(",
     "library": "var_list.r",
     "varRefreshCmd": "cat(var_dic_list()) "
    }
   },
   "types_to_exclude": [
    "module",
    "function",
    "builtin_function_or_method",
    "instance",
    "_Feature"
   ],
   "window_display": false
  }
 },
 "nbformat": 4,
 "nbformat_minor": 4
}
